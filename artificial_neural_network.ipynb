{
 "cells": [
  {
   "cell_type": "code",
   "execution_count": 1,
   "metadata": {},
   "outputs": [],
   "source": [
    "# Imports\n",
    "import torch\n",
    "import torch.nn as nn\n",
    "import torch.nn.functional as F"
   ]
  },
  {
   "cell_type": "code",
   "execution_count": 2,
   "metadata": {},
   "outputs": [],
   "source": [
    "# Create a Model Class that inharit nn.Module\n",
    "\n",
    "class Model (nn.Module):\n",
    "\t# Input layer (Input features)\n",
    "\t# Hidden layer 1 (number of nueuron)\n",
    "\t# Hidden layer 2 \n",
    "\t# Output Layer (Number of classes)\n",
    "\n",
    "\tdef __init__(self, input_features = 4 ,hidden_1 = 8, hidden_2 = 9, output_features = 3):\n",
    "\t\tsuper().__init__()  # instantiate our nn.Module\n",
    "\t\tself.f_connected1 = nn.Linear(input_features,hidden_1)\n",
    "\t\tself.f_connected2 = nn.Linear(hidden_1,hidden_2)\n",
    "\t\tself.output = nn.Linear(hidden_2,output_features)\n",
    "\t\n",
    "\tdef forward(self,x):\n",
    "\t\tx = F.relu(self.f_connected1(x))\n",
    "\t\tx = F.relu(self.f_connected2(x))\n",
    "\t\tx = self.output(x)\n",
    "\n",
    "\t\treturn x\n",
    "\t\n"
   ]
  },
  {
   "cell_type": "code",
   "execution_count": 3,
   "metadata": {},
   "outputs": [],
   "source": [
    "# Pick a manual seed for Randomization\n",
    "torch.manual_seed(41)\n",
    "# Create an Model instance\n",
    "model = Model()\n"
   ]
  },
  {
   "cell_type": "code",
   "execution_count": 4,
   "metadata": {},
   "outputs": [],
   "source": [
    "import pandas as pd\n",
    "import numpy as np\n",
    "import matplotlib.pyplot as plt"
   ]
  },
  {
   "cell_type": "code",
   "execution_count": 5,
   "metadata": {},
   "outputs": [
    {
     "data": {
      "text/html": [
       "<div>\n",
       "<style scoped>\n",
       "    .dataframe tbody tr th:only-of-type {\n",
       "        vertical-align: middle;\n",
       "    }\n",
       "\n",
       "    .dataframe tbody tr th {\n",
       "        vertical-align: top;\n",
       "    }\n",
       "\n",
       "    .dataframe thead th {\n",
       "        text-align: right;\n",
       "    }\n",
       "</style>\n",
       "<table border=\"1\" class=\"dataframe\">\n",
       "  <thead>\n",
       "    <tr style=\"text-align: right;\">\n",
       "      <th></th>\n",
       "      <th>sepal_length</th>\n",
       "      <th>sepal_width</th>\n",
       "      <th>petal_length</th>\n",
       "      <th>petal_width</th>\n",
       "      <th>species</th>\n",
       "    </tr>\n",
       "  </thead>\n",
       "  <tbody>\n",
       "    <tr>\n",
       "      <th>0</th>\n",
       "      <td>5.1</td>\n",
       "      <td>3.5</td>\n",
       "      <td>1.4</td>\n",
       "      <td>0.2</td>\n",
       "      <td>setosa</td>\n",
       "    </tr>\n",
       "    <tr>\n",
       "      <th>1</th>\n",
       "      <td>4.9</td>\n",
       "      <td>3.0</td>\n",
       "      <td>1.4</td>\n",
       "      <td>0.2</td>\n",
       "      <td>setosa</td>\n",
       "    </tr>\n",
       "    <tr>\n",
       "      <th>2</th>\n",
       "      <td>4.7</td>\n",
       "      <td>3.2</td>\n",
       "      <td>1.3</td>\n",
       "      <td>0.2</td>\n",
       "      <td>setosa</td>\n",
       "    </tr>\n",
       "    <tr>\n",
       "      <th>3</th>\n",
       "      <td>4.6</td>\n",
       "      <td>3.1</td>\n",
       "      <td>1.5</td>\n",
       "      <td>0.2</td>\n",
       "      <td>setosa</td>\n",
       "    </tr>\n",
       "    <tr>\n",
       "      <th>4</th>\n",
       "      <td>5.0</td>\n",
       "      <td>3.6</td>\n",
       "      <td>1.4</td>\n",
       "      <td>0.2</td>\n",
       "      <td>setosa</td>\n",
       "    </tr>\n",
       "  </tbody>\n",
       "</table>\n",
       "</div>"
      ],
      "text/plain": [
       "   sepal_length  sepal_width  petal_length  petal_width species\n",
       "0           5.1          3.5           1.4          0.2  setosa\n",
       "1           4.9          3.0           1.4          0.2  setosa\n",
       "2           4.7          3.2           1.3          0.2  setosa\n",
       "3           4.6          3.1           1.5          0.2  setosa\n",
       "4           5.0          3.6           1.4          0.2  setosa"
      ]
     },
     "execution_count": 5,
     "metadata": {},
     "output_type": "execute_result"
    }
   ],
   "source": [
    "url = 'https://gist.githubusercontent.com/curran/a08a1080b88344b0c8a7/raw/0e7a9b0a5d22642a06d3d5b9bcbad9890c8ee534/iris.csv'\n",
    "my_df = pd.read_csv(url)\n",
    "my_df.head()"
   ]
  },
  {
   "cell_type": "code",
   "execution_count": 6,
   "metadata": {},
   "outputs": [
    {
     "name": "stderr",
     "output_type": "stream",
     "text": [
      "C:\\Users\\chira\\AppData\\Local\\Temp\\ipykernel_29480\\3918365836.py:4: FutureWarning: Downcasting behavior in `replace` is deprecated and will be removed in a future version. To retain the old behavior, explicitly call `result.infer_objects(copy=False)`. To opt-in to the future behavior, set `pd.set_option('future.no_silent_downcasting', True)`\n",
      "  my_df['species'] = my_df['species'].replace('virginica',2.0)\n"
     ]
    },
    {
     "data": {
      "text/html": [
       "<div>\n",
       "<style scoped>\n",
       "    .dataframe tbody tr th:only-of-type {\n",
       "        vertical-align: middle;\n",
       "    }\n",
       "\n",
       "    .dataframe tbody tr th {\n",
       "        vertical-align: top;\n",
       "    }\n",
       "\n",
       "    .dataframe thead th {\n",
       "        text-align: right;\n",
       "    }\n",
       "</style>\n",
       "<table border=\"1\" class=\"dataframe\">\n",
       "  <thead>\n",
       "    <tr style=\"text-align: right;\">\n",
       "      <th></th>\n",
       "      <th>sepal_length</th>\n",
       "      <th>sepal_width</th>\n",
       "      <th>petal_length</th>\n",
       "      <th>petal_width</th>\n",
       "      <th>species</th>\n",
       "    </tr>\n",
       "  </thead>\n",
       "  <tbody>\n",
       "    <tr>\n",
       "      <th>0</th>\n",
       "      <td>5.1</td>\n",
       "      <td>3.5</td>\n",
       "      <td>1.4</td>\n",
       "      <td>0.2</td>\n",
       "      <td>0.0</td>\n",
       "    </tr>\n",
       "    <tr>\n",
       "      <th>1</th>\n",
       "      <td>4.9</td>\n",
       "      <td>3.0</td>\n",
       "      <td>1.4</td>\n",
       "      <td>0.2</td>\n",
       "      <td>0.0</td>\n",
       "    </tr>\n",
       "    <tr>\n",
       "      <th>2</th>\n",
       "      <td>4.7</td>\n",
       "      <td>3.2</td>\n",
       "      <td>1.3</td>\n",
       "      <td>0.2</td>\n",
       "      <td>0.0</td>\n",
       "    </tr>\n",
       "    <tr>\n",
       "      <th>3</th>\n",
       "      <td>4.6</td>\n",
       "      <td>3.1</td>\n",
       "      <td>1.5</td>\n",
       "      <td>0.2</td>\n",
       "      <td>0.0</td>\n",
       "    </tr>\n",
       "    <tr>\n",
       "      <th>4</th>\n",
       "      <td>5.0</td>\n",
       "      <td>3.6</td>\n",
       "      <td>1.4</td>\n",
       "      <td>0.2</td>\n",
       "      <td>0.0</td>\n",
       "    </tr>\n",
       "    <tr>\n",
       "      <th>...</th>\n",
       "      <td>...</td>\n",
       "      <td>...</td>\n",
       "      <td>...</td>\n",
       "      <td>...</td>\n",
       "      <td>...</td>\n",
       "    </tr>\n",
       "    <tr>\n",
       "      <th>145</th>\n",
       "      <td>6.7</td>\n",
       "      <td>3.0</td>\n",
       "      <td>5.2</td>\n",
       "      <td>2.3</td>\n",
       "      <td>2.0</td>\n",
       "    </tr>\n",
       "    <tr>\n",
       "      <th>146</th>\n",
       "      <td>6.3</td>\n",
       "      <td>2.5</td>\n",
       "      <td>5.0</td>\n",
       "      <td>1.9</td>\n",
       "      <td>2.0</td>\n",
       "    </tr>\n",
       "    <tr>\n",
       "      <th>147</th>\n",
       "      <td>6.5</td>\n",
       "      <td>3.0</td>\n",
       "      <td>5.2</td>\n",
       "      <td>2.0</td>\n",
       "      <td>2.0</td>\n",
       "    </tr>\n",
       "    <tr>\n",
       "      <th>148</th>\n",
       "      <td>6.2</td>\n",
       "      <td>3.4</td>\n",
       "      <td>5.4</td>\n",
       "      <td>2.3</td>\n",
       "      <td>2.0</td>\n",
       "    </tr>\n",
       "    <tr>\n",
       "      <th>149</th>\n",
       "      <td>5.9</td>\n",
       "      <td>3.0</td>\n",
       "      <td>5.1</td>\n",
       "      <td>1.8</td>\n",
       "      <td>2.0</td>\n",
       "    </tr>\n",
       "  </tbody>\n",
       "</table>\n",
       "<p>150 rows × 5 columns</p>\n",
       "</div>"
      ],
      "text/plain": [
       "     sepal_length  sepal_width  petal_length  petal_width  species\n",
       "0             5.1          3.5           1.4          0.2      0.0\n",
       "1             4.9          3.0           1.4          0.2      0.0\n",
       "2             4.7          3.2           1.3          0.2      0.0\n",
       "3             4.6          3.1           1.5          0.2      0.0\n",
       "4             5.0          3.6           1.4          0.2      0.0\n",
       "..            ...          ...           ...          ...      ...\n",
       "145           6.7          3.0           5.2          2.3      2.0\n",
       "146           6.3          2.5           5.0          1.9      2.0\n",
       "147           6.5          3.0           5.2          2.0      2.0\n",
       "148           6.2          3.4           5.4          2.3      2.0\n",
       "149           5.9          3.0           5.1          1.8      2.0\n",
       "\n",
       "[150 rows x 5 columns]"
      ]
     },
     "execution_count": 6,
     "metadata": {},
     "output_type": "execute_result"
    }
   ],
   "source": [
    "# Change last column form strings to integers\n",
    "my_df['species'] = my_df['species'].replace('setosa',0.0)\n",
    "my_df['species'] = my_df['species'].replace('versicolor',1.0)\n",
    "my_df['species'] = my_df['species'].replace('virginica',2.0)\n",
    "my_df"
   ]
  },
  {
   "cell_type": "code",
   "execution_count": 7,
   "metadata": {},
   "outputs": [],
   "source": [
    "# Train Test Split\n",
    "from sklearn.model_selection import train_test_split\n",
    "X = my_df.drop('species',axis=1).values # (numpy arrays)\n",
    "y = my_df['species'].values\n",
    "X_train, X_test, y_train, y_test = train_test_split(X,y,test_size=0.2,random_state=41)\n"
   ]
  },
  {
   "cell_type": "code",
   "execution_count": 8,
   "metadata": {},
   "outputs": [],
   "source": [
    "# Convert X features to fload tensors\n",
    "X_train = torch.FloatTensor(X_train)\n",
    "X_test = torch.FloatTensor(X_test)"
   ]
  },
  {
   "cell_type": "code",
   "execution_count": 9,
   "metadata": {},
   "outputs": [],
   "source": [
    "# Convert y labels to fload tensors\n",
    "y_train = torch.LongTensor(y_train)\n",
    "y_test = torch.LongTensor(y_test)"
   ]
  },
  {
   "cell_type": "code",
   "execution_count": 10,
   "metadata": {},
   "outputs": [],
   "source": [
    "# Set the Criterion of model to measure the error, how far of the predictions are from the data\n",
    "criterion = nn.CrossEntropyLoss()\n",
    "# Set the Optimizer of model to update the weights, how to update the model to minimize the error\n",
    "optimizer = torch.optim.Adam(model.parameters(),lr=0.01)"
   ]
  },
  {
   "cell_type": "code",
   "execution_count": 11,
   "metadata": {},
   "outputs": [
    {
     "data": {
      "text/plain": [
       "<bound method Module.parameters of Model(\n",
       "  (f_connected1): Linear(in_features=4, out_features=8, bias=True)\n",
       "  (f_connected2): Linear(in_features=8, out_features=9, bias=True)\n",
       "  (output): Linear(in_features=9, out_features=3, bias=True)\n",
       ")>"
      ]
     },
     "execution_count": 11,
     "metadata": {},
     "output_type": "execute_result"
    }
   ],
   "source": [
    "model.parameters"
   ]
  },
  {
   "cell_type": "code",
   "execution_count": 12,
   "metadata": {},
   "outputs": [
    {
     "name": "stdout",
     "output_type": "stream",
     "text": [
      "Epoch 0 and loss is: 1.1251550912857056\n",
      "Epoch 10 and loss is: 1.0096259117126465\n",
      "Epoch 20 and loss is: 0.8157405257225037\n",
      "Epoch 30 and loss is: 0.585706353187561\n",
      "Epoch 40 and loss is: 0.3999636471271515\n",
      "Epoch 50 and loss is: 0.26768800616264343\n",
      "Epoch 60 and loss is: 0.17942363023757935\n",
      "Epoch 70 and loss is: 0.12151691317558289\n",
      "Epoch 80 and loss is: 0.0860118493437767\n",
      "Epoch 90 and loss is: 0.06520850956439972\n"
     ]
    }
   ],
   "source": [
    "# Train our model\n",
    "epochs = 100\n",
    "losses = []\n",
    "for epoch in range(epochs):\n",
    "\t# Forward pass and get prediction\n",
    "\ty_pred = model.forward(X_train)\n",
    "\tloss = criterion(y_pred,y_train)\n",
    "\tlosses.append(loss.detach().numpy())\n",
    "\tif epoch % 10 == 0:\n",
    "\t\tprint(f'Epoch {epoch} and loss is: {loss}')\n",
    "\toptimizer.zero_grad()\n",
    "\tloss.backward()\n",
    "\toptimizer.step()"
   ]
  },
  {
   "cell_type": "code",
   "execution_count": 13,
   "metadata": {},
   "outputs": [
    {
     "data": {
      "image/png": "[encoded data removed]",
      "text/plain": [
       "<Figure size 640x480 with 1 Axes>"
      ]
     },
     "metadata": {},
     "output_type": "display_data"
    }
   ],
   "source": [
    "# Graph it out\n",
    "plt.plot(range(epochs),losses)\n",
    "plt.ylabel('Loss')\n",
    "plt.xlabel('Epoch')\n",
    "plt.show()\n"
   ]
  },
  {
   "cell_type": "code",
   "execution_count": 14,
   "metadata": {},
   "outputs": [],
   "source": [
    "# Validate our model\n",
    "with torch.no_grad():\n",
    "\ty_val = model.forward(X_test)\n",
    "\tloss = criterion(y_val,y_test)"
   ]
  },
  {
   "cell_type": "code",
   "execution_count": 15,
   "metadata": {},
   "outputs": [
    {
     "data": {
      "text/plain": [
       "tensor(0.1315)"
      ]
     },
     "execution_count": 15,
     "metadata": {},
     "output_type": "execute_result"
    }
   ],
   "source": [
    "loss"
   ]
  },
  {
   "cell_type": "code",
   "execution_count": 16,
   "metadata": {},
   "outputs": [
    {
     "name": "stdout",
     "output_type": "stream",
     "text": [
      "1.) tensor([-5.8760,  4.4628,  6.5124]) 2\n",
      "2.) tensor([-7.5436,  4.1670,  9.7255]) 2\n",
      "3.) tensor([-8.4504,  5.1271, 10.1987]) 2\n",
      "4.) tensor([-4.3398,  5.6267,  2.5608]) 1\n",
      "5.) tensor([-7.1825,  4.8754,  8.2992]) 2\n",
      "6.) tensor([-3.3974,  5.3463,  1.2803]) 1\n",
      "7.) tensor([-5.9231,  4.9822,  5.9997]) 2\n",
      "8.) tensor([-4.2881,  5.7003,  2.3889]) 1\n",
      "9.) tensor([-6.5356,  4.9257,  7.1260]) 2\n",
      "10.) tensor([-8.0509,  4.4129, 10.3286]) 2\n",
      "11.) tensor([-5.6762,  4.9500,  5.6215]) 2\n",
      "12.) tensor([ 4.5662, -2.2476, -2.8911]) 0\n",
      "13.) tensor([ 4.2571, -1.9967, -2.7330]) 0\n",
      "14.) tensor([-2.1108,  4.0515,  0.5799]) 1\n",
      "15.) tensor([ 3.4575, -1.2098, -2.3514]) 0\n",
      "16.) tensor([-5.4724,  5.1165,  5.0934]) 2\n",
      "17.) tensor([ 4.0557, -1.7949, -2.6492]) 0\n",
      "18.) tensor([-5.8075,  4.6053,  6.2458]) 1\n",
      "19.) tensor([ 4.4343, -2.1392, -2.8242]) 0\n",
      "20.) tensor([ 3.4528, -1.2514, -2.3660]) 0\n",
      "21.) tensor([-2.6189,  4.5619,  0.8574]) 1\n",
      "22.) tensor([-7.7412,  4.7377,  9.4199]) 2\n",
      "23.) tensor([ 3.5744, -1.3221, -2.4135]) 0\n",
      "24.) tensor([ 4.5365, -2.2383, -2.8684]) 0\n",
      "25.) tensor([-2.6579,  4.6177,  0.8823]) 1\n",
      "26.) tensor([-3.2865,  5.2229,  1.2164]) 1\n",
      "27.) tensor([-4.6514,  5.7776,  2.9272]) 1\n",
      "28.) tensor([-2.9464,  4.8892,  1.0379]) 1\n",
      "29.) tensor([ 4.5847, -2.2687, -2.8974]) 0\n",
      "30.) tensor([-4.5784,  5.4554,  3.1660]) 1\n"
     ]
    }
   ],
   "source": [
    "correct = 0\n",
    "with torch.no_grad():\n",
    "\tfor i,data in enumerate(X_test):\n",
    "\t\ty_val = model.forward(data)\n",
    "\t\tprint(f'{i+1}.) {str(y_val)} {y_test[i]}')\n",
    "\t\tif y_val.argmax().item() == y_test[i]:\n",
    "\t\t\tcorrect += 1"
   ]
  },
  {
   "cell_type": "code",
   "execution_count": 17,
   "metadata": {},
   "outputs": [
    {
     "data": {
      "text/plain": [
       "28"
      ]
     },
     "execution_count": 17,
     "metadata": {},
     "output_type": "execute_result"
    }
   ],
   "source": [
    "correct"
   ]
  },
  {
   "cell_type": "code",
   "execution_count": 18,
   "metadata": {},
   "outputs": [],
   "source": [
    "new_iris = torch.tensor([4.7,3.2,1.3,0.2])"
   ]
  },
  {
   "cell_type": "code",
   "execution_count": 19,
   "metadata": {},
   "outputs": [
    {
     "name": "stdout",
     "output_type": "stream",
     "text": [
      "tensor([ 4.5365, -2.2383, -2.8684])\n",
      "0\n"
     ]
    }
   ],
   "source": [
    "with torch.no_grad():\n",
    "\tprint(model(new_iris))\n",
    "\tprint(model(new_iris).argmax().item())"
   ]
  },
  {
   "cell_type": "code",
   "execution_count": 20,
   "metadata": {},
   "outputs": [
    {
     "name": "stdout",
     "output_type": "stream",
     "text": [
      "tensor([-5.9944,  4.5077,  6.6792])\n",
      "2\n"
     ]
    }
   ],
   "source": [
    "new_iris = torch.tensor([5.9,3.0,5.1,1.8])\n",
    "with torch.no_grad():\n",
    "\tprint(model(new_iris))\n",
    "\tprint(model(new_iris).argmax().item())"
   ]
  },
  {
   "cell_type": "code",
   "execution_count": 21,
   "metadata": {},
   "outputs": [],
   "source": [
    "# Save our NN Model\n",
    "\n",
    "torch.save(model.state_dict(),'IrisDatasetModel.pt')"
   ]
  },
  {
   "cell_type": "code",
   "execution_count": 22,
   "metadata": {},
   "outputs": [
    {
     "name": "stderr",
     "output_type": "stream",
     "text": [
      "C:\\Users\\chira\\AppData\\Local\\Temp\\ipykernel_29480\\1380406762.py:4: FutureWarning: You are using `torch.load` with `weights_only=False` (the current default value), which uses the default pickle module implicitly. It is possible to construct malicious pickle data which will execute arbitrary code during unpickling (See https://github.com/pytorch/pytorch/blob/main/SECURITY.md#untrusted-models for more details). In a future release, the default value for `weights_only` will be flipped to `True`. This limits the functions that could be executed during unpickling. Arbitrary objects will no longer be allowed to be loaded via this mode unless they are explicitly allowlisted by the user via `torch.serialization.add_safe_globals`. We recommend you start setting `weights_only=True` for any use case where you don't have full control of the loaded file. Please open an issue on GitHub for any issues related to this experimental feature.\n",
      "  new_model.load_state_dict(torch.load('IrisDatasetModel.pt'))\n"
     ]
    },
    {
     "data": {
      "text/plain": [
       "<All keys matched successfully>"
      ]
     },
     "execution_count": 22,
     "metadata": {},
     "output_type": "execute_result"
    }
   ],
   "source": [
    "# Load the Save Model\n",
    "\n",
    "new_model = Model()\n",
    "new_model.load_state_dict(torch.load('IrisDatasetModel.pt'))"
   ]
  },
  {
   "cell_type": "code",
   "execution_count": 23,
   "metadata": {},
   "outputs": [
    {
     "data": {
      "text/plain": [
       "Model(\n",
       "  (f_connected1): Linear(in_features=4, out_features=8, bias=True)\n",
       "  (f_connected2): Linear(in_features=8, out_features=9, bias=True)\n",
       "  (output): Linear(in_features=9, out_features=3, bias=True)\n",
       ")"
      ]
     },
     "execution_count": 23,
     "metadata": {},
     "output_type": "execute_result"
    }
   ],
   "source": [
    "# Make sure it load correctly\n",
    "\n",
    "new_model.eval()"
   ]
  },
  {
   "cell_type": "code",
   "execution_count": 24,
   "metadata": {},
   "outputs": [
    {
     "name": "stdout",
     "output_type": "stream",
     "text": [
      "tensor([-5.9944,  4.5077,  6.6792])\n",
      "2\n"
     ]
    }
   ],
   "source": [
    "new_iris = torch.tensor([5.9,3.0,5.1,1.8])\n",
    "with torch.no_grad():\n",
    "\tprint(new_model(new_iris))\n",
    "\tprint(new_model(new_iris).argmax().item())"
   ]
  },
  {
   "cell_type": "code",
   "execution_count": null,
   "metadata": {},
   "outputs": [],
   "source": []
  }
 ],
 "metadata": {
  "kernelspec": {
   "display_name": "Python 3",
   "language": "python",
   "name": "python3"
  },
  "language_info": {
   "codemirror_mode": {
    "name": "ipython",
    "version": 3
   },
   "file_extension": ".py",
   "mimetype": "text/x-python",
   "name": "python",
   "nbconvert_exporter": "python",
   "pygments_lexer": "ipython3",
   "version": "3.10.14"
  }
 },
 "nbformat": 4,
 "nbformat_minor": 2
}
