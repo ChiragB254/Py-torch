{
 "cells": [
  {
   "cell_type": "code",
   "execution_count": 1,
   "metadata": {},
   "outputs": [],
   "source": [
    "# Imports\n",
    "import torch\n",
    "import torch.nn as nn # All neural network modules, nn.Linear, nn.Conv2d, BatchNorm, Loss Function\n",
    "import torch.optim as optim # For all Optimization algorithms, SGD, Adam, etc.\n",
    "import torch.nn.functional as F # All functions that don't have any parameters\n",
    "from torch.utils.data import DataLoader # Gives easier dataset management and creates mini batches\n",
    "import torchvision.datasets as datasets # Has standard datasets we can import in a nice and easy way\n",
    "import torchvision.transforms as transforms # Transformations we can perform on our dataset"
   ]
  },
  {
   "cell_type": "code",
   "execution_count": 2,
   "metadata": {},
   "outputs": [],
   "source": [
    "device = \"cuda\" if torch.cuda.is_available() else \"cpu\""
   ]
  },
  {
   "cell_type": "code",
   "execution_count": 3,
   "metadata": {},
   "outputs": [
    {
     "data": {
      "text/plain": [
       "'cpu'"
      ]
     },
     "execution_count": 3,
     "metadata": {},
     "output_type": "execute_result"
    }
   ],
   "source": [
    "device"
   ]
  },
  {
   "cell_type": "code",
   "execution_count": 4,
   "metadata": {},
   "outputs": [],
   "source": [
    "# CNN\n",
    "class CNN(nn.Module):\n",
    "\tdef __init__(self, in_channels= 1,num_classes = 10):\n",
    "\t\tsuper(CNN,self).__init__()\n",
    "\t\t# 1st conv layer\n",
    "\t\tself.conv1 = nn.Conv2d(in_channels = in_channels, out_channels = 8, kernel_size = (3,3), stride = (1,1), padding = (1,1))\n",
    "\t\t# Maxpool\n",
    "\t\tself.pool = nn.MaxPool2d(kernel_size = (2,2), stride = (2,2))\n",
    "\t\t# 2nd conv layer\n",
    "\t\tself.conv2 = nn.Conv2d(in_channels = 8, out_channels = 16, kernel_size = (3,3), stride = (1,1), padding = (1,1))\n",
    "\t\t# Output Layer\n",
    "\t\tself.fc1 = nn.Linear(16*7*7,num_classes)\n",
    "\n",
    "\tdef forward(self,x):\n",
    "\n",
    "\t\tx = F.relu(self.conv1(x))\n",
    "\t\tx = self.pool(x)\n",
    "\t\tx = F.relu(self.conv2(x))\n",
    "\t\tx = self.pool(x)\n",
    "\t\tx = x.reshape(x.shape[0],-1)\n",
    "\t\tx = self.fc1(x)\n",
    "\n",
    "\t\treturn x\n",
    "\t"
   ]
  },
  {
   "cell_type": "code",
   "execution_count": 5,
   "metadata": {},
   "outputs": [
    {
     "name": "stdout",
     "output_type": "stream",
     "text": [
      "torch.Size([64, 1, 28, 28])\n",
      "torch.Size([64, 10])\n"
     ]
    }
   ],
   "source": [
    "model = CNN()\n",
    "x = torch.randn(64,1,28,28)\n",
    "print(x.shape)\n",
    "print(model(x).shape)"
   ]
  },
  {
   "cell_type": "code",
   "execution_count": 6,
   "metadata": {},
   "outputs": [],
   "source": [
    "# Hyperparameters\n",
    "\n",
    "in_channels = 1\n",
    "num_classes = 10\n",
    "learning_rate = 0.001\n",
    "batch_size = 64\n",
    "num_epochs = 15"
   ]
  },
  {
   "cell_type": "code",
   "execution_count": 7,
   "metadata": {},
   "outputs": [],
   "source": [
    "# Load Data\n",
    "train_dataset = datasets.MNIST(root = 'dataset/', train = True, transform = transforms.ToTensor(), download = True)\n",
    "# Shuffle the data and create mini batches of size 64 using DataLoader\n",
    "train_loader = DataLoader(dataset = train_dataset, batch_size = batch_size, shuffle = True)\n",
    "test_dataset = datasets.MNIST(root = 'dataset/', train = False, transform = transforms.ToTensor(), download = True)\n",
    "# Shuffle the data and create mini batches of size 64 using DataLoaderes\n",
    "test_loader = DataLoader(dataset = test_dataset, batch_size = batch_size, shuffle = True)"
   ]
  },
  {
   "cell_type": "code",
   "execution_count": 8,
   "metadata": {},
   "outputs": [],
   "source": [
    "# Initialize the network\n",
    "model = CNN().to(device)\n"
   ]
  },
  {
   "cell_type": "code",
   "execution_count": 9,
   "metadata": {},
   "outputs": [],
   "source": [
    " = nn.CrossEntropyLoss()\n",
    "optimizer = optim.Adam(model.parameters(), lr = learning_rate)"
   ]
  },
  {
   "cell_type": "code",
   "execution_count": 11,
   "metadata": {},
   "outputs": [
    {
     "name": "stderr",
     "output_type": "stream",
     "text": [
      "                                                                               \r"
     ]
    }
   ],
   "source": [
    "# Train Network\n",
    "from tqdm import tqdm\n",
    "\n",
    "for epoch in range(num_epochs):\n",
    "    loop = tqdm(enumerate(train_loader), total=len(train_loader), leave=False)\n",
    "    for batch_idx, (data, targets) in loop:\n",
    "        data = data.to(device)\n",
    "        targets = targets.to(device)\n",
    "\n",
    "        # forward\n",
    "        scores = model(data)\n",
    "        loss = criterion(scores, targets)\n",
    "\n",
    "        # backward\n",
    "        optimizer.zero_grad()\n",
    "        loss.backward()\n",
    "\n",
    "        # gradient descent or adam step\n",
    "        optimizer.step()\n",
    "\n",
    "        # Update tqdm loop with loss\n",
    "        loop.set_description(f\"Epoch [{epoch+1}/{num_epochs}]\")\n",
    "        loop.set_postfix(loss=loss.item())\n"
   ]
  },
  {
   "cell_type": "code",
   "execution_count": 13,
   "metadata": {},
   "outputs": [
    {
     "name": "stdout",
     "output_type": "stream",
     "text": [
      "Checking accuracy on training data\n",
      "Got 59645/60000 with accuracy 99.41\n",
      "Checking accuracy on test data\n",
      "Got 9866/10000 with accuracy 98.66\n"
     ]
    }
   ],
   "source": [
    "# Check accuracy on training & test to see how good our model\n",
    "\n",
    "def check_accuracy(loader, model):\n",
    "\t# Checking if we are checking accuracy on training or test dataset\n",
    "\tif loader.dataset.train:\n",
    "\t\tprint(\"Checking accuracy on training data\")\n",
    "\telse:\n",
    "\t\tprint(\"Checking accuracy on test data\")\n",
    "\n",
    "\t# Initialize the number of correct predictions and total number of predictions\n",
    "\tnum_correct = 0\n",
    "\tnum_samples = 0\n",
    "\t# Set the model to evaluation mode\n",
    "\tmodel.eval()\n",
    "\n",
    "\t# We don't need to calculate gradients when checking accuracy\n",
    "\twith torch.no_grad():\n",
    "\t\t# Loop over the data in loader\n",
    "\t\tfor x,y in loader:\n",
    "\t\t\t# Move the data to device\n",
    "\t\t\tx = x.to(device = device)\n",
    "\t\t\ty = y.to(device = device)\n",
    "\t\t\t# Get the scores from the model\n",
    "\t\t\tscores = model(x)\n",
    "\n",
    "\t\t\t# Get the maximum value and index of the prediction\n",
    "\t\t\t_, predictions = scores.max(1)\n",
    "\n",
    "\t\t\t# Update the number of correct predictions and total number of predictions\n",
    "\t\t\tnum_correct += (predictions == y).sum()\n",
    "\t\t\tnum_samples += predictions.size(0)\n",
    "\n",
    "\t\t# Print the accuracy\n",
    "\t\tprint(f'Got {num_correct}/{num_samples} with accuracy {float(num_correct)/float(num_samples)*100:.2f}')\n",
    "\t\n",
    "\t# Set the model back to training mode\n",
    "\tmodel.train()\n",
    "\n",
    "check_accuracy(train_loader, model)\n",
    "check_accuracy(test_loader, model)"
   ]
  },
  {
   "cell_type": "code",
   "execution_count": null,
   "metadata": {},
   "outputs": [],
   "source": []
  }
 ],
 "metadata": {
  "kernelspec": {
   "display_name": "Python 3",
   "language": "python",
   "name": "python3"
  },
  "language_info": {
   "codemirror_mode": {
    "name": "ipython",
    "version": 3
   },
   "file_extension": ".py",
   "mimetype": "text/x-python",
   "name": "python",
   "nbconvert_exporter": "python",
   "pygments_lexer": "ipython3",
   "version": "3.10.14"
  }
 },
 "nbformat": 4,
 "nbformat_minor": 2
}
